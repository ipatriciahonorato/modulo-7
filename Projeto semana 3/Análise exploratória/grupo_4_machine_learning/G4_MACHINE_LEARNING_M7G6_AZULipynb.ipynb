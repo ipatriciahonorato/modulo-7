{
 "cells": [
  {
   "cell_type": "markdown",
   "metadata": {
    "id": "Cp0NtX9BvmPT"
   },
   "source": [
    "**Instalações necessárias**\n",
    "- FASE 1: Instalação do python no notebook do colab."
   ]
  },
  {
   "cell_type": "code",
   "execution_count": null,
   "metadata": {
    "id": "sZz1pvXR96Ad"
   },
   "outputs": [],
   "source": [
    "!pip install -U -q PyDrive"
   ]
  },
  {
   "cell_type": "code",
   "execution_count": null,
   "metadata": {
    "id": "xTjKzQI0CYu_"
   },
   "outputs": [],
   "source": [
    "!pip install -U -q pyarrow"
   ]
  },
  {
   "cell_type": "markdown",
   "metadata": {
    "id": "trVVbOY7v0lP"
   },
   "source": [
    "**Importações necessárias**\n",
    "- FASE 2: Importações das bibliotecas a serem utilizadas."
   ]
  },
  {
   "cell_type": "code",
   "execution_count": 8,
   "metadata": {
    "id": "PUMAFtKH-Fxc"
   },
   "outputs": [
    {
     "ename": "ModuleNotFoundError",
     "evalue": "No module named 'google.colab'",
     "output_type": "error",
     "traceback": [
      "\u001b[1;31m---------------------------------------------------------------------------\u001b[0m",
      "\u001b[1;31mModuleNotFoundError\u001b[0m                       Traceback (most recent call last)",
      "Cell \u001b[1;32mIn[8], line 6\u001b[0m\n\u001b[0;32m      4\u001b[0m \u001b[38;5;28;01mfrom\u001b[39;00m \u001b[38;5;21;01mpydrive\u001b[39;00m\u001b[38;5;21;01m.\u001b[39;00m\u001b[38;5;21;01mauth\u001b[39;00m \u001b[38;5;28;01mimport\u001b[39;00m GoogleAuth\n\u001b[0;32m      5\u001b[0m \u001b[38;5;28;01mfrom\u001b[39;00m \u001b[38;5;21;01mpydrive\u001b[39;00m\u001b[38;5;21;01m.\u001b[39;00m\u001b[38;5;21;01mdrive\u001b[39;00m \u001b[38;5;28;01mimport\u001b[39;00m GoogleDrive\n\u001b[1;32m----> 6\u001b[0m \u001b[38;5;28;01mfrom\u001b[39;00m \u001b[38;5;21;01mgoogle\u001b[39;00m\u001b[38;5;21;01m.\u001b[39;00m\u001b[38;5;21;01mcolab\u001b[39;00m \u001b[38;5;28;01mimport\u001b[39;00m auth\n\u001b[0;32m      7\u001b[0m \u001b[38;5;28;01mfrom\u001b[39;00m \u001b[38;5;21;01moauth2client\u001b[39;00m\u001b[38;5;21;01m.\u001b[39;00m\u001b[38;5;21;01mclient\u001b[39;00m \u001b[38;5;28;01mimport\u001b[39;00m GoogleCredentials\n\u001b[0;32m      8\u001b[0m \u001b[38;5;28;01mimport\u001b[39;00m \u001b[38;5;21;01mwarnings\u001b[39;00m\n",
      "\u001b[1;31mModuleNotFoundError\u001b[0m: No module named 'google.colab'"
     ]
    }
   ],
   "source": [
    "# importações necessarias\n",
    "import pandas as pd\n",
    "import os\n",
    "from pydrive.auth import GoogleAuth\n",
    "from pydrive.drive import GoogleDrive\n",
    "from google.colab import auth\n",
    "from oauth2client.client import GoogleCredentials\n",
    "import warnings\n",
    "import shutil\n",
    "warnings.filterwarnings('ignore')\n",
    "import plotly.express as px\n",
    "import pyarrow as pa\n",
    "import pyarrow.parquet as pq"
   ]
  },
  {
   "cell_type": "markdown",
   "metadata": {
    "id": "esv9hbGLwKZt"
   },
   "source": [
    "**Autenticação de segurança**\n",
    "- FASE 3: Verificação de acesso do email INTELI para acessar a base de dados fornecida pelo Banco Pan. Importante para a segurança dos dados."
   ]
  },
  {
   "cell_type": "code",
   "execution_count": null,
   "metadata": {
    "id": "Cv3u-tGW-Hkm"
   },
   "outputs": [],
   "source": [
    "# Autenticação para acesso aos dados\n",
    "auth.authenticate_user()\n",
    "gauth = GoogleAuth()\n",
    "gauth.credentials = GoogleCredentials.get_application_default()\n",
    "drive = GoogleDrive(gauth)"
   ]
  },
  {
   "cell_type": "markdown",
   "metadata": {
    "id": "a245Rqrewe97"
   },
   "source": [
    "**Download dos Dados**\n",
    "- FASE 4: Realização do download dos dados da base para esse notebook do Colab, para a visualização e manipulação."
   ]
  },
  {
   "cell_type": "code",
   "execution_count": 3,
   "metadata": {
    "id": "ct4XM60K-Liq"
   },
   "outputs": [],
   "source": [
    "# Download dos dados para esta máquina virtual\n",
    "downloaded = drive.CreateFile({'id': '1nYYM_5xH6bWL5gPqBTx_mt0SCzm4EiuU'})\n",
    "downloaded.GetContentFile(\"06120018.zip\")\n",
    "shutil.unpack_archive(\"06120018.zip\", \"./dataset\")"
   ]
  },
  {
   "cell_type": "markdown",
   "metadata": {
    "id": "u9IbgE3Z8PRZ"
   },
   "source": [
    "**Filtro das colunas**\n",
    "- FASE 5: Escolher todas as colunas que de fato seram utilizado"
   ]
  },
  {
   "cell_type": "code",
   "execution_count": 4,
   "metadata": {
    "id": "01G0IfyZv3W7"
   },
   "outputs": [],
   "source": [
    "# Filtro de colunas gerado pelo muricola\n",
    "# Filtro para as colunas que estão descritas no TAPI - by: muricola\n",
    "\n",
    "filtered_cols = ['amscHprsovDrivF-1a', 'amscHprsovDrivF-1b',\n",
    "                'amscHprsovDrivF-2b', 'amscPrsovDrivF-1a',\n",
    "                'amscPrsovDrivF-1b', 'amscPrsovDrivF-2b',\n",
    "                'basBleedLowPressF-1a', 'basBleedLowPressF-2b',\n",
    "                'basBleedLowTempF-1a', 'basBleedLowTempF-2b',\n",
    "                'basBleedOverPressF-1a', 'basBleedOverPressF-2b',\n",
    "                'basBleedOverTempF-1a', 'basBleedOverTempF-2b',\n",
    "                'bleedFavTmCmd-1a', 'bleedFavTmCmd-1b',\n",
    "                'bleedFavTmCmd-2a', 'bleedFavTmCmd-2b', 'bleedFavTmFbk-1a',\n",
    "                'bleedFavTmFbk-1b', 'bleedFavTmFbk-2b', 'bleedHprsovCmdStatus-1a',\n",
    "                'bleedHprsovCmdStatus-1b', 'bleedHprsovCmdStatus-2a',\n",
    "                'bleedHprsovCmdStatus-2b', 'bleedHprsovOpPosStatus-1a',\n",
    "                'bleedHprsovOpPosStatus-1b', 'bleedHprsovOpPosStatus-2a',\n",
    "                'bleedHprsovOpPosStatus-2b', 'bleedMonPress-1a',\n",
    "                'bleedMonPress-1b', 'bleedMonPress-2a', 'bleedMonPress-2b',\n",
    "                'bleedOnStatus-1a', 'bleedOnStatus-1b', 'bleedOnStatus-2b',\n",
    "                'bleedOverpressCas-2a', 'bleedOverpressCas-2b',\n",
    "                'bleedPrecoolDiffPress-1a', 'bleedPrecoolDiffPress-1b',\n",
    "                'bleedPrecoolDiffPress-2a', 'bleedPrecoolDiffPress-2b',\n",
    "                'bleedPrsovClPosStatus-1a', 'bleedPrsovClPosStatus-2a',\n",
    "                'bleedPrsovFbk-1a']"
   ]
  },
  {
   "cell_type": "markdown",
   "metadata": {
    "id": "Wn3CXQfm8gma"
   },
   "source": [
    "**Converter as colunas**\n",
    "- FASE 6: Converter todas as colunas do tipo 64 para 32, diminuindo o tamanho do dataset"
   ]
  },
  {
   "cell_type": "code",
   "execution_count": 5,
   "metadata": {
    "id": "dqBWhcXov-x3"
   },
   "outputs": [],
   "source": [
    "def convert_columns(df_filtered):\n",
    "    for coluna in df_filtered.columns:\n",
    "        if df_filtered[coluna].dtype == 'float64':\n",
    "            df_filtered[coluna] = df_filtered[coluna].astype('float32')\n",
    "\n",
    "        if df_filtered[coluna].dtype == 'int64':\n",
    "            df_filtered[coluna] = df_filtered[coluna].astype('int32')\n",
    "\n",
    "    return df_filtered"
   ]
  },
  {
   "cell_type": "markdown",
   "metadata": {
    "id": "mYwaTsTE8yCJ"
   },
   "source": [
    "**União dos dataset**\n",
    "- FASE 7: Passar por todos e uni-los em um só"
   ]
  },
  {
   "cell_type": "code",
   "execution_count": null,
   "metadata": {
    "id": "GUZOH1PpkmiD"
   },
   "outputs": [],
   "source": [
    "df = pd.DataFrame()\n",
    "df_number = 0\n",
    "for _, _, arquivos in os.walk('./dataset/06120018'):\n",
    "    #nota: para alterar o tamanho do dataset, basta alterar o valor de 250. Recomendo utilizar o valor de 250 para não estourar o tamanho da RAM do colab\n",
    "    while(df_number != 250):\n",
    "            df_read = pd.read_parquet(\"./dataset/06120018/\" + arquivos[df_number] ,engine='auto')\n",
    "            df_filtered = df_read[filtered_cols]\n",
    "            df_converted = convert_columns(df_filtered)\n",
    "            df = pd.concat([df, df_converted], axis=0)\n",
    "            df_number = df_number + 1\n",
    "            #print(df_number)"
   ]
  },
  {
   "cell_type": "markdown",
   "metadata": {
    "id": "1a6EsVEQm2Ji"
   },
   "source": [
    "**Exibir dataset**\n",
    "- FASE 8: Exibição final do novo dataset gerado"
   ]
  },
  {
   "cell_type": "code",
   "execution_count": null,
   "metadata": {
    "id": "CcggiCLCIwTO"
   },
   "outputs": [],
   "source": [
    "df"
   ]
  },
  {
   "cell_type": "markdown",
   "metadata": {
    "id": "W5kZZkkFmiH-"
   },
   "source": [
    "**Salvar o novo dataset**\n",
    "- FASE 9: Salvando o novo dataset na raiz em um nvo arquivo parquet"
   ]
  },
  {
   "cell_type": "code",
   "execution_count": null,
   "metadata": {
    "id": "MNWXI9iaH2xH"
   },
   "outputs": [],
   "source": [
    "df.to_parquet('./dataframe.parquet', index=False)"
   ]
  },
  {
   "cell_type": "code",
   "execution_count": null,
   "metadata": {
    "id": "i4TCI4rH-YyN"
   },
   "outputs": [],
   "source": []
  }
 ],
 "metadata": {
  "colab": {
   "provenance": []
  },
  "kernelspec": {
   "display_name": "Python 3 (ipykernel)",
   "language": "python",
   "name": "python3"
  },
  "language_info": {
   "codemirror_mode": {
    "name": "ipython",
    "version": 3
   },
   "file_extension": ".py",
   "mimetype": "text/x-python",
   "name": "python",
   "nbconvert_exporter": "python",
   "pygments_lexer": "ipython3",
   "version": "3.10.4"
  }
 },
 "nbformat": 4,
 "nbformat_minor": 4
}
